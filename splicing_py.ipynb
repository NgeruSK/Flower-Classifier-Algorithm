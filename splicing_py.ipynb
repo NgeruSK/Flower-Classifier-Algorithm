{
 "cells": [
  {
   "cell_type": "code",
   "execution_count": 1,
   "id": "3975a2a3",
   "metadata": {},
   "outputs": [],
   "source": [
    "import numpy as np"
   ]
  },
  {
   "cell_type": "code",
   "execution_count": 3,
   "id": "18b643ca",
   "metadata": {},
   "outputs": [
    {
     "name": "stdout",
     "output_type": "stream",
     "text": [
      "5\n",
      "[3 4 5 6 7]\n",
      "[1 2]\n",
      "[[34 52 68 55]]\n"
     ]
    }
   ],
   "source": [
    "arr = np.array([1, 2, 3, 4, 5, 6, 7])\n",
    "\n",
    "arr2 = np.array([[34,52,68,55],[77,66,12,39]])\n",
    "\n",
    "print(arr[4])\n",
    "\n",
    "print(arr[2:])\n",
    "\n",
    "print(arr[:2])\n",
    "\n",
    "print(arr2[:1])"
   ]
  },
  {
   "cell_type": "code",
   "execution_count": 4,
   "id": "c720c95e",
   "metadata": {},
   "outputs": [
    {
     "name": "stdout",
     "output_type": "stream",
     "text": [
      "[[34 52 68]\n",
      " [77 66 12]]\n"
     ]
    }
   ],
   "source": [
    "print(arr2[:,:-1])"
   ]
  },
  {
   "cell_type": "code",
   "execution_count": null,
   "id": "f7a6196d",
   "metadata": {},
   "outputs": [],
   "source": []
  }
 ],
 "metadata": {
  "kernelspec": {
   "display_name": "Python 3 (ipykernel)",
   "language": "python",
   "name": "python3"
  },
  "language_info": {
   "codemirror_mode": {
    "name": "ipython",
    "version": 3
   },
   "file_extension": ".py",
   "mimetype": "text/x-python",
   "name": "python",
   "nbconvert_exporter": "python",
   "pygments_lexer": "ipython3",
   "version": "3.10.9"
  }
 },
 "nbformat": 4,
 "nbformat_minor": 5
}
